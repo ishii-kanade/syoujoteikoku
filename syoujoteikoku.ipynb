{
  "nbformat": 4,
  "nbformat_minor": 0,
  "metadata": {
    "colab": {
      "provenance": [],
      "authorship_tag": "ABX9TyOwlCdcyTmnLOzfOaPfL9u1",
      "include_colab_link": true
    },
    "kernelspec": {
      "name": "python3",
      "display_name": "Python 3"
    },
    "language_info": {
      "name": "python"
    }
  },
  "cells": [
    {
      "cell_type": "markdown",
      "metadata": {
        "id": "view-in-github",
        "colab_type": "text"
      },
      "source": [
        "<a href=\"https://colab.research.google.com/github/kanade-ishii/syoujoteikoku/blob/main/syoujoteikoku.ipynb\" target=\"_parent\"><img src=\"https://colab.research.google.com/assets/colab-badge.svg\" alt=\"Open In Colab\"/></a>"
      ]
    },
    {
      "cell_type": "code",
      "execution_count": null,
      "metadata": {
        "colab": {
          "base_uri": "https://localhost:8080/"
        },
        "id": "w_1-vOpvDQbW",
        "outputId": "d4fdc773-6fac-4159-9dc9-ec66b62906da"
      },
      "outputs": [
        {
          "output_type": "stream",
          "name": "stdout",
          "text": [
            "Enter number of students: 10000\n",
            "Alive students: 1\n",
            "Dead students: 9999\n",
            "Days survived: 508579\n"
          ]
        }
      ],
      "source": [
        "import random\n",
        "\n",
        "class Cube:\n",
        "    def __init__(self):\n",
        "        self.awake = False\n",
        "\n",
        "class FemaleStudent:\n",
        "    def __init__(self):\n",
        "        self.food = 0\n",
        "        self.daily_calorie_requirement = random.randint(1800, 2200)\n",
        "        self.survival_ability = random.random()\n",
        "        self.sickness_probability = random.uniform(0.01, 0.1)\n",
        "        self.injury_probability = random.uniform(0.01, 0.1)\n",
        "        self.health = 100\n",
        "        self.injury = 0\n",
        "\n",
        "class CubeSurvivalSimulation:\n",
        "    def __init__(self, num_cubes, num_students):\n",
        "        self.cubes = [Cube() for _ in range(num_cubes)]\n",
        "        self.students = [FemaleStudent() for _ in range(num_students)]\n",
        "        self.dead_students = 0\n",
        "        self.days_survived = 0\n",
        "\n",
        "    def open_cube(self, cube_index):\n",
        "        if not self.cubes[cube_index].awake:\n",
        "            self.cubes[cube_index].awake = True\n",
        "\n",
        "    def run_simulation(self):\n",
        "        for index in random.sample(range(len(self.cubes)), len(self.students)):\n",
        "            self.open_cube(index)\n",
        "\n",
        "        while len(self.students) > 1:\n",
        "            student = self.students[0]\n",
        "            if random.random() < student.sickness_probability:\n",
        "                student.health -= random.randint(1, 20)\n",
        "            if random.random() < student.injury_probability:\n",
        "                student.injury += random.randint(1, 20)\n",
        "\n",
        "            student.food -= student.daily_calorie_requirement\n",
        "            if student.health < 100:\n",
        "                student.daily_calorie_requirement += 100\n",
        "\n",
        "            if student.food <= 0:\n",
        "                self.students.pop(0)\n",
        "                self.dead_students += 1\n",
        "                for i in range(min(50, len(self.students))):\n",
        "                    self.students[i].food += (1 + self.students[i].survival_ability) * 2000\n",
        "            self.days_survived += 1\n",
        "\n",
        "        return len(self.students), self.dead_students, self.days_survived\n",
        "\n",
        "num_cubes = 100000\n",
        "num_students = int(input(\"Enter number of students: \"))\n",
        "\n",
        "simulation = CubeSurvivalSimulation(num_cubes, num_students)\n",
        "alive_students, dead_students, days_survived = simulation.run_simulation()\n",
        "\n",
        "print(f\"Alive students: {alive_students}\")\n",
        "print(f\"Dead students: {dead_students}\")\n",
        "print(f\"Days survived: {days_survived}\")"
      ]
    }
  ]
}