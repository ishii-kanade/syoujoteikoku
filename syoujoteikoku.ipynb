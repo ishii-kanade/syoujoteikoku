{
  "nbformat": 4,
  "nbformat_minor": 0,
  "metadata": {
    "colab": {
      "provenance": [],
      "authorship_tag": "ABX9TyMMntqV/Z9XVlccXDsg5xDQ",
      "include_colab_link": true
    },
    "kernelspec": {
      "name": "python3",
      "display_name": "Python 3"
    },
    "language_info": {
      "name": "python"
    }
  },
  "cells": [
    {
      "cell_type": "markdown",
      "metadata": {
        "id": "view-in-github",
        "colab_type": "text"
      },
      "source": [
        "<a href=\"https://colab.research.google.com/github/kanade-ishii/syoujoteikoku/blob/main/syoujoteikoku.ipynb\" target=\"_parent\"><img src=\"https://colab.research.google.com/assets/colab-badge.svg\" alt=\"Open In Colab\"/></a>"
      ]
    },
    {
      "cell_type": "code",
      "execution_count": 25,
      "metadata": {
        "colab": {
          "base_uri": "https://localhost:8080/"
        },
        "id": "w_1-vOpvDQbW",
        "outputId": "1f12e812-4968-4630-fdc5-99f2a61e8437"
      },
      "outputs": [
        {
          "output_type": "stream",
          "name": "stdout",
          "text": [
            "Enter the number of cubes:\n",
            "3000\n",
            "Opened cubes: 3000\n",
            "Dead students: 2999\n",
            "Days survived: 3175\n"
          ]
        }
      ],
      "source": [
        "import random\n",
        "\n",
        "class Cube:\n",
        "    def __init__(self):\n",
        "        self.awake = False\n",
        "\n",
        "class FemaleStudent:\n",
        "    def __init__(self, daily_calorie_requirement, daily_water_requirement, survival_ability, sickness_probability, injury_probability):\n",
        "        self.food = 0\n",
        "        self.water = 0\n",
        "        self.daily_calorie_requirement = daily_calorie_requirement\n",
        "        self.daily_water_requirement = daily_water_requirement\n",
        "        self.survival_ability = survival_ability\n",
        "        self.sickness_probability = sickness_probability\n",
        "        self.injury_probability = injury_probability\n",
        "        self.health = 100\n",
        "        self.injury = 0\n",
        "        self.stress = 0\n",
        "\n",
        "class Simulation:\n",
        "    def __init__(self, num_cubes):\n",
        "        self.cubes = [Cube() for _ in range(num_cubes)]\n",
        "        self.students = [\n",
        "            FemaleStudent(\n",
        "                random.randint(1800, 2200),\n",
        "                random.randint(2000, 3000),\n",
        "                random.random(),\n",
        "                random.uniform(0.01, 0.1),\n",
        "                random.uniform(0.01, 0.1)\n",
        "            )\n",
        "            for _ in range(num_cubes)\n",
        "        ]\n",
        "        self.opened_cubes = 0\n",
        "        self.dead_students = 0\n",
        "        self.days_survived = 0\n",
        "\n",
        "    def open_door(self, cube_index):\n",
        "        if not self.cubes[cube_index].awake:\n",
        "            self.cubes[cube_index].awake = True\n",
        "            self.opened_cubes += 1\n",
        "\n",
        "    def simulate(self):\n",
        "        cube_indices = random.sample(range(len(self.cubes)), len(self.students))\n",
        "\n",
        "        for index in cube_indices:\n",
        "            self.open_door(index)\n",
        "\n",
        "        while len(self.students) > 1:\n",
        "            for student in self.students:\n",
        "                if random.random() < student.sickness_probability:\n",
        "                    student.health -= random.randint(1, 20)\n",
        "                if random.random() < student.injury_probability:\n",
        "                    student.injury += random.randint(1, 20)\n",
        "                student.stress += random.uniform(0.1, 1)\n",
        "\n",
        "            self.students[0].food -= self.students[0].daily_calorie_requirement\n",
        "            self.students[0].water -= self.students[0].daily_water_requirement\n",
        "            if self.students[0].health < 100:\n",
        "                self.students[0].daily_calorie_requirement += 100\n",
        "\n",
        "            if self.students[0].food <= 0 or self.students[0].water <= 0 or self.students[0].stress >= 100:\n",
        "                self.students.pop(0)\n",
        "                self.dead_students += 1\n",
        "                for i in range(min(45, len(self.students))):\n",
        "                    self.students[i].food += (1 + self.students[i].survival_ability) * 2000\n",
        "                    self.students[i].water += (1 + self.students[i].survival_ability) * 2500\n",
        "            self.days_survived += 1\n",
        "\n",
        "        return self.opened_cubes, self.dead_students, self.days_survived\n",
        "\n",
        "print(\"Enter the number of cubes:\")\n",
        "num_cubes = int(input())\n",
        "simulation = Simulation(num_cubes)\n",
        "opened_cubes, dead_students, days_survived = simulation.simulate()\n",
        "\n",
        "print(f\"Opened cubes: {opened_cubes}\")\n",
        "print(f\"Dead students: {dead_students}\")\n",
        "print(f\"Days survived: {days_survived}\")"
      ]
    }
  ]
}