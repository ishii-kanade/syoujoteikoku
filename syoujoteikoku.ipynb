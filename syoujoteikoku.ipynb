{
  "nbformat": 4,
  "nbformat_minor": 0,
  "metadata": {
    "colab": {
      "provenance": [],
      "authorship_tag": "ABX9TyPMms79dcfWnZdBj9xYs7Zt",
      "include_colab_link": true
    },
    "kernelspec": {
      "name": "python3",
      "display_name": "Python 3"
    },
    "language_info": {
      "name": "python"
    }
  },
  "cells": [
    {
      "cell_type": "markdown",
      "metadata": {
        "id": "view-in-github",
        "colab_type": "text"
      },
      "source": [
        "<a href=\"https://colab.research.google.com/github/kanade-ishii/syoujoteikoku/blob/main/syoujoteikoku.ipynb\" target=\"_parent\"><img src=\"https://colab.research.google.com/assets/colab-badge.svg\" alt=\"Open In Colab\"/></a>"
      ]
    },
    {
      "cell_type": "code",
      "source": [
        "import random\n",
        "\n",
        "class Cube:\n",
        "    def __init__(self):\n",
        "        self.opened = False\n",
        "\n",
        "class FemaleStudent:\n",
        "    def __init__(self, base_calorie_requirement, daily_water_requirement, survival_ability, sickness_probability, injury_probability):\n",
        "        self.food = 0\n",
        "        self.water = 0\n",
        "        self.base_calorie_requirement = base_calorie_requirement\n",
        "        self.daily_water_requirement = daily_water_requirement\n",
        "        self.survival_ability = survival_ability\n",
        "        self.sickness_probability = sickness_probability\n",
        "        self.injury_probability = injury_probability\n",
        "        self.current_health = 100\n",
        "        self.injury = 0\n",
        "        self.stress = 0\n",
        "\n",
        "    def consume_food(self, amount):\n",
        "        self.food -= amount\n",
        "\n",
        "    def consume_water(self, amount):\n",
        "        self.water -= amount\n",
        "\n",
        "class Simulation:\n",
        "    def __init__(self, num_cubes):\n",
        "        self.cubes = [Cube() for _ in range(num_cubes)]\n",
        "        self.students = [\n",
        "            FemaleStudent(\n",
        "                random.randint(1800, 2200),\n",
        "                random.randint(2000, 3000),\n",
        "            random.random(),\n",
        "            random.uniform(0.01, 0.1),\n",
        "            random.uniform(0.01, 0.1)\n",
        "          )\n",
        "          for _ in range(num_cubes)\n",
        "        ]\n",
        "        self.opened_cubes = 0\n",
        "        self.dead_students = 0\n",
        "        self.days_survived = 0\n",
        "\n",
        "    def reset(self):\n",
        "      for student in self.students:\n",
        "        student.food = 0\n",
        "        student.water = 0\n",
        "        student.current_health = 100\n",
        "        student.injury = 0\n",
        "        student.stress = 0\n",
        "      for cube in self.cubes:\n",
        "        cube.opened = False\n",
        "        self.opened_cubes = 0\n",
        "        self.dead_students = 0\n",
        "        self.days_survived = 0\n",
        "\n",
        "    def open_door(self, cube_index):\n",
        "        if not self.cubes[cube_index].opened:\n",
        "            self.cubes[cube_index].opened = True\n",
        "            self.opened_cubes += 1\n",
        "\n",
        "    def run(self):\n",
        "        self.reset()\n",
        "\n",
        "        cube_indices = random.sample(range(len(self.cubes)), len(self.students))\n",
        "\n",
        "        for index in cube_indices:\n",
        "            self.open_door(index)\n",
        "\n",
        "        while len(self.students) > 1:\n",
        "            # 生存者に対して以下を実行します。\n",
        "            for student in self.students:\n",
        "                # 病気になる確率に基づいて、健康状態を減らします。\n",
        "                if random.random() < student.sickness_probability:\n",
        "                    student.current_health -= random.randint(1, 20)\n",
        "                # 負傷する確率に基づいて、負傷レベルを増加させます。\n",
        "                if random.random() < student.injury_probability:\n",
        "                    student.injury += random.randint(1, 20)\n",
        "                # ストレスを増やします。\n",
        "                student.stress += random.uniform(0.1, 1)\n",
        "\n",
        "            # 最初の生存者に対して以下を実行します。\n",
        "            self.students[0].consume_food(self.students[0].base_calorie_requirement)\n",
        "            self.students[0].consume_water(self.students[0].daily_water_requirement)\n",
        "            # 健康状態が100より低い場合、基本的なカロリー要件を追加します。\n",
        "            if self.students[0].current_health < 100:\n",
        "                self.students[0].base_calorie_requirement += 100\n",
        "\n",
        "            # 生存者が死亡する場合、リストから削除します。\n",
        "            if self.students[0].food <= 0 or self.students[0].water <= 0 or self.students[0].stress >= 100:\n",
        "                self.students.pop(0)\n",
        "                self.dead_students += 1\n",
        "                # ランダムな50人の生存者に食べ物と水を分配します。\n",
        "                for i in range(min(50, len(self.students))):\n",
        "                    self.students[i].food += (1 + self.students[i].survival_ability) * 2000\n",
        "                    self.students[i].water += (1 + self.students[i].survival_ability) * 2500\n",
        "            self.days_survived += 1\n",
        "\n",
        "        return self.opened_cubes, self.dead_students, self.days_survived"
      ],
      "metadata": {
        "id": "dVjRImg2nwrf"
      },
      "execution_count": 93,
      "outputs": []
    },
    {
      "cell_type": "code",
      "source": [
        "print(\"Enter the number of cubes:\")\n",
        "num_cubes = int(input())\n",
        "simulation = Simulation(num_cubes)\n",
        "opened_cubes, dead_students, days_survived = simulation.run()\n",
        "\n",
        "print(f\"Opened cubes: {opened_cubes}\")\n",
        "print(f\"Dead students: {dead_students}\")\n",
        "print(f\"Days survived: {days_survived}\")"
      ],
      "metadata": {
        "id": "5QSvHpm9nzZF",
        "outputId": "2938bc9c-954e-46e5-a9eb-927b8237eda7",
        "colab": {
          "base_uri": "https://localhost:8080/"
        }
      },
      "execution_count": 97,
      "outputs": [
        {
          "output_type": "stream",
          "name": "stdout",
          "text": [
            "Enter the number of cubes:\n",
            "4\n",
            "Opened cubes: 4\n",
            "Dead students: 3\n",
            "Days survived: 7\n"
          ]
        }
      ]
    }
  ]
}