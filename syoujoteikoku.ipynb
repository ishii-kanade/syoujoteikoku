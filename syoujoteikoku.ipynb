{
  "nbformat": 4,
  "nbformat_minor": 0,
  "metadata": {
    "colab": {
      "provenance": [],
      "authorship_tag": "ABX9TyNH+EDmTRW7vtGKmLDQDoNC",
      "include_colab_link": true
    },
    "kernelspec": {
      "name": "python3",
      "display_name": "Python 3"
    },
    "language_info": {
      "name": "python"
    }
  },
  "cells": [
    {
      "cell_type": "markdown",
      "metadata": {
        "id": "view-in-github",
        "colab_type": "text"
      },
      "source": [
        "<a href=\"https://colab.research.google.com/github/kanade-ishii/syoujoteikoku/blob/main/syoujoteikoku.ipynb\" target=\"_parent\"><img src=\"https://colab.research.google.com/assets/colab-badge.svg\" alt=\"Open In Colab\"/></a>"
      ]
    },
    {
      "cell_type": "code",
      "source": [
        "import random\n",
        "\n",
        "\n",
        "class Cube:\n",
        "    def __init__(self):\n",
        "        self.opened = False\n",
        "\n",
        "\n",
        "class FemaleStudent:\n",
        "    def __init__(\n",
        "        self,\n",
        "        base_calorie_requirement,\n",
        "        daily_water_requirement,\n",
        "        survival_ability,\n",
        "        sickness_probability,\n",
        "        injury_probability,\n",
        "    ):\n",
        "        self.food = 0\n",
        "        self.water = 0\n",
        "        self.base_calorie_requirement = base_calorie_requirement\n",
        "        self.daily_water_requirement = daily_water_requirement\n",
        "        self.survival_ability = survival_ability\n",
        "        self.sickness_probability = sickness_probability\n",
        "        self.injury_probability = injury_probability\n",
        "        self.current_health = 100\n",
        "        self.injury = 0\n",
        "        self.stress = 0\n",
        "\n",
        "    def consume_food(self, amount):\n",
        "        self.food -= amount\n",
        "\n",
        "    def consume_water(self, amount):\n",
        "        self.water -= amount\n",
        "\n",
        "\n",
        "class Simulation:\n",
        "    def __init__(self, num_cubes):\n",
        "        self.cubes = [Cube() for _ in range(num_cubes)]\n",
        "        self.students = [\n",
        "            FemaleStudent(\n",
        "                base_calorie_requirement=random.randint(1800, 2200),\n",
        "                daily_water_requirement=random.randint(2000, 3000),\n",
        "                survival_ability=random.random(),\n",
        "                sickness_probability=random.uniform(0.01, 0.1),\n",
        "                injury_probability=random.uniform(0.01, 0.1),\n",
        "            )\n",
        "            for _ in range(num_cubes)\n",
        "        ]\n",
        "        self.opened_cubes = 0\n",
        "        self.dead_students = 0\n",
        "        self.days_survived = 0\n",
        "\n",
        "    def reset(self):\n",
        "        for student in self.students:\n",
        "            student.food = 0\n",
        "            student.water = 0\n",
        "            student.current_health = 100\n",
        "            student.injury = 0\n",
        "            student.stress = 0\n",
        "        for cube in self.cubes:\n",
        "            cube.opened = False\n",
        "            self.opened_cubes = 0\n",
        "            self.dead_students = 0\n",
        "            self.days_survived = 0\n",
        "\n",
        "    def open_door(self, cube_index):\n",
        "        if not self.cubes[cube_index].opened:\n",
        "            self.cubes[cube_index].opened = True\n",
        "            self.opened_cubes += 1\n",
        "\n",
        "    def run(self):\n",
        "        self.reset()\n",
        "\n",
        "        cube_indices = random.sample(range(len(self.cubes)), len(self.students))\n",
        "\n",
        "        for index in cube_indices:\n",
        "            self.open_door(index)\n",
        "\n",
        "        while len(self.students) > 1:\n",
        "            for i, student in enumerate(self.students):\n",
        "                calorie_requirement = student.base_calorie_requirement\n",
        "                water_requirement = student.daily_water_requirement\n",
        "\n",
        "            # 病気になる確率に基づいて、健康状態を減らします。\n",
        "            if random.random() < student.sickness_probability:\n",
        "                student.current_health -= random.randint(1, 20)\n",
        "\n",
        "            # 負傷する確率に基づいて、負傷レベルを増加させます。\n",
        "            if random.random() < student.injury_probability:\n",
        "                student.injury += random.randint(1, 20)\n",
        "            # ストレスを増やします。\n",
        "            student.stress += random.uniform(0.1, 1)\n",
        "\n",
        "            # 食べ物と水を消費します。\n",
        "            student.consume_food(calorie_requirement)\n",
        "            student.consume_water(water_requirement)\n",
        "\n",
        "            # 健康状態が100より低い場合、基本的なカロリー要件を追加します。\n",
        "            if student.current_health < 100:\n",
        "                student.base_calorie_requirement += 100\n",
        "\n",
        "            # 生存者が死亡する場合、リストから削除します。\n",
        "            if student.food <= 0 or student.water <= 0 or student.stress >= 100:\n",
        "                self.students.pop(i)\n",
        "                self.dead_students += 1\n",
        "                # 死亡した女生徒の人肉が最大40人に配給される(女生徒の人肉が平均して、40kg=80000kcalであると仮定)\n",
        "                for j in range(min(40, len(self.students))):\n",
        "                    self.students[j].food += (\n",
        "                        1 + self.students[j].survival_ability\n",
        "                    ) * 2000\n",
        "                    self.students[j].water += (\n",
        "                        1 + self.students[j].survival_ability\n",
        "                    ) * 2500\n",
        "\n",
        "            self.days_survived += 1\n",
        "        return self.opened_cubes, self.dead_students, self.days_survived"
      ],
      "metadata": {
        "id": "dVjRImg2nwrf"
      },
      "execution_count": 106,
      "outputs": []
    },
    {
      "cell_type": "code",
      "source": [
        "def days_to_years_and_days(days):\n",
        "    years = days // 365  # 整数の年数を計算します。\n",
        "    leap_years = years // 4  # うるう年の数を計算します。\n",
        "    days -= years * 365 + leap_years  # 残りの日数を計算します。\n",
        "    return years, days\n",
        "\n",
        "\n",
        "print(\"Enter the number of cubes:\")\n",
        "num_cubes = int(input())\n",
        "simulation = Simulation(num_cubes)\n",
        "opened_cubes, dead_students, days_survived = simulation.run()\n",
        "\n",
        "print(f\"Opened cubes: {opened_cubes}\")\n",
        "print(f\"Dead students: {dead_students}\")\n",
        "years, days = days_to_years_and_days(days_survived)\n",
        "print(f\"n-m=1になるまで{years}年{days}日\")"
      ],
      "metadata": {
        "id": "5QSvHpm9nzZF",
        "outputId": "42c5afca-6728-47e2-e630-06bf5285d0c6",
        "colab": {
          "base_uri": "https://localhost:8080/"
        }
      },
      "execution_count": 107,
      "outputs": [
        {
          "output_type": "stream",
          "name": "stdout",
          "text": [
            "Enter the number of cubes:\n",
            "100\n",
            "Opened cubes: 100\n",
            "Dead students: 99\n",
            "n-m=1になるまで6年264日\n"
          ]
        }
      ]
    }
  ]
}